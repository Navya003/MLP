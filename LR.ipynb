{
  "nbformat": 4,
  "nbformat_minor": 0,
  "metadata": {
    "colab": {
      "provenance": [],
      "authorship_tag": "ABX9TyMRvBUQRXXBQYhiidlkm/HU",
      "include_colab_link": true
    },
    "kernelspec": {
      "name": "python3",
      "display_name": "Python 3"
    },
    "language_info": {
      "name": "python"
    }
  },
  "cells": [
    {
      "cell_type": "markdown",
      "metadata": {
        "id": "view-in-github",
        "colab_type": "text"
      },
      "source": [
        "<a href=\"https://colab.research.google.com/github/Navya003/MLP/blob/main/LR.ipynb\" target=\"_parent\"><img src=\"https://colab.research.google.com/assets/colab-badge.svg\" alt=\"Open In Colab\"/></a>"
      ]
    },
    {
      "cell_type": "markdown",
      "source": [
        "\n",
        "1. Import Libraries: Import all the necessary libraries for data manipulation, visualization, and model building.\n"
      ],
      "metadata": {
        "id": "jDK30Al93wrK"
      }
    },
    {
      "cell_type": "code",
      "source": [
        "# Import necessary libraries\n",
        "import numpy as np\n",
        "import pandas as pd\n",
        "import matplotlib.pyplot as plt\n",
        "import seaborn as sns\n",
        "from sklearn.model_selection import GridSearchCV\n",
        "from sklearn.metrics import accuracy_score, confusion_matrix, classification_report\n",
        "from sklearn.linear_model import LogisticRegression"
      ],
      "metadata": {
        "id": "Rb-3LuN43SG8"
      },
      "execution_count": null,
      "outputs": []
    },
    {
      "cell_type": "markdown",
      "source": [
        "2. Load Datasets: Load the training, actual, and testing datasets.\n"
      ],
      "metadata": {
        "id": "gnPJZy8PR2y-"
      }
    },
    {
      "cell_type": "code",
      "source": [
        "# Load the datasets\n",
        "train_df = pd.read_csv(\"data_set_ALL_AML_train.csv\")\n",
        "cancer_labels = pd.read_csv(\"actual.csv\")\n",
        "test_df = pd.read_csv(\"data_set_ALL_AML_independent.csv\")"
      ],
      "metadata": {
        "id": "N7mWx0VvSBXo"
      },
      "execution_count": null,
      "outputs": []
    },
    {
      "cell_type": "markdown",
      "source": [
        "3. Convert Labels to Numeric: Convert cancer type labels from 'ALL' and 'AML' to numeric values (0 and 1).\n"
      ],
      "metadata": {
        "id": "fOr4mYd3SJtT"
      }
    },
    {
      "cell_type": "code",
      "source": [
        "# Convert cancer type to numerical values: ALL = 0, AML = 1\n",
        "cancer_labels['cancer'] = cancer_labels['cancer'].map({'ALL': 0, 'AML': 1})"
      ],
      "metadata": {
        "id": "AQesY7wfSqyp"
      },
      "execution_count": null,
      "outputs": []
    },
    {
      "cell_type": "markdown",
      "source": [
        "4. Remove Irrelevant Columns: Remove columns that contain 'call' as they are not needed for analysis.\n"
      ],
      "metadata": {
        "id": "ImUn4_uwSNvR"
      }
    },
    {
      "cell_type": "code",
      "source": [
        "# Remove columns with 'call' in their name\n",
        "train_cols = [col for col in train_df.columns if 'call' not in col]\n",
        "test_cols = [col for col in test_df.columns if 'call' not in col]"
      ],
      "metadata": {
        "id": "ZLXOS_oOS6XF"
      },
      "execution_count": null,
      "outputs": []
    },
    {
      "cell_type": "markdown",
      "source": [
        "5. Transpose Data: Transpose the dataframes to switch rows and columns, so genes are columns and patients are rows.\n"
      ],
      "metadata": {
        "id": "v4lEFnn_SQmM"
      }
    },
    {
      "cell_type": "code",
      "source": [
        "# Transpose the dataframes to have genes as columns and patients as rows\n",
        "train_data = train_df[train_cols].set_index('Gene Accession Number').T.reset_index(drop=True)\n",
        "test_data = test_df[test_cols].set_index('Gene Accession Number').T.reset_index(drop=True)"
      ],
      "metadata": {
        "id": "w9fZ0J-NTB3v"
      },
      "execution_count": null,
      "outputs": []
    },
    {
      "cell_type": "markdown",
      "source": [
        "6. Add Patient Identifiers: Add patient identifiers to the datasets.\n"
      ],
      "metadata": {
        "id": "Gbb27Lp_STQa"
      }
    },
    {
      "cell_type": "code",
      "source": [
        "# Add patient identifiers\n",
        "train_data['patient'] = train_data.index + 1\n",
        "test_data['patient'] = test_data.index + 1"
      ],
      "metadata": {
        "id": "F5Utc9jhTIRx"
      },
      "execution_count": null,
      "outputs": []
    },
    {
      "cell_type": "markdown",
      "source": [
        "7. Merge with Labels: Merge the datasets with the actual cancer data to get the labels for each patient.\n"
      ],
      "metadata": {
        "id": "VSxga9UGSWgE"
      }
    },
    {
      "cell_type": "code",
      "source": [
        "# Merge with actual cancer data to get the labels\n",
        "train_merged = train_data.merge(cancer_labels, left_on='patient', right_on='patient')\n",
        "test_merged = test_data.merge(cancer_labels, left_on='patient', right_on='patient')"
      ],
      "metadata": {
        "id": "7b40KMMWTV6a"
      },
      "execution_count": null,
      "outputs": []
    },
    {
      "cell_type": "markdown",
      "source": [
        "8. Separate Features and Target: Separate the features (gene expressions) and target (cancer type) for both training and testing data.\n"
      ],
      "metadata": {
        "id": "Eyfkd_PYSaoW"
      }
    },
    {
      "cell_type": "code",
      "source": [
        "# Separate features (X) and target (y) for training and testing\n",
        "X_train = train_merged.drop(columns=['patient', 'cancer'])\n",
        "y_train = train_merged['cancer']\n",
        "X_test = test_merged.drop(columns=['patient', 'cancer'])\n",
        "y_test = test_merged['cancer']"
      ],
      "metadata": {
        "id": "q_lGsYVETcos"
      },
      "execution_count": null,
      "outputs": []
    },
    {
      "cell_type": "markdown",
      "source": [
        "9. Ensure Numeric Values: Convert all values to numeric, replacing non-numeric values with 0.\n"
      ],
      "metadata": {
        "id": "QQFI0CzSTh78"
      }
    },
    {
      "cell_type": "code",
      "source": [
        "# Ensure all columns are numeric (convert any non-numeric values to 0)\n",
        "X_train = X_train.apply(pd.to_numeric, errors='coerce').fillna(0)\n",
        "X_test = X_test.apply(pd.to_numeric, errors='coerce').fillna(0)"
      ],
      "metadata": {
        "id": "rtqAKLUnT34s"
      },
      "execution_count": null,
      "outputs": []
    },
    {
      "cell_type": "markdown",
      "source": [
        "10. Setup Logistic Regression: Set up the logistic regression model and use GridSearchCV to find the best hyperparameters.\n"
      ],
      "metadata": {
        "id": "uczHYshbTk9L"
      }
    },
    {
      "cell_type": "code",
      "source": [
        "# Set up the logistic regression model with GridSearchCV for hyperparameter tuning\n",
        "param_grid = {'C': [0.001, 0.01, 0.1, 1, 10], 'penalty': ['l1', 'l2']}\n",
        "log_reg = LogisticRegression(solver='liblinear')\n",
        "grid_search = GridSearchCV(estimator=log_reg, param_grid=param_grid, cv=3, scoring='accuracy')"
      ],
      "metadata": {
        "id": "TlujX3w4T9K8"
      },
      "execution_count": null,
      "outputs": []
    },
    {
      "cell_type": "markdown",
      "source": [
        "11. Train Model: Train the model using the training data.\n"
      ],
      "metadata": {
        "id": "F1zCJ28jTna0"
      }
    },
    {
      "cell_type": "code",
      "source": [
        "# Train the model using the training data\n",
        "grid_search.fit(X_train, y_train)"
      ],
      "metadata": {
        "colab": {
          "base_uri": "https://localhost:8080/",
          "height": 118
        },
        "id": "L83AyWulUDBd",
        "outputId": "f9ff49b6-a63d-49a4-81f0-f06f7aca0b47"
      },
      "execution_count": null,
      "outputs": [
        {
          "output_type": "execute_result",
          "data": {
            "text/plain": [
              "GridSearchCV(cv=3, estimator=LogisticRegression(solver='liblinear'),\n",
              "             param_grid={'C': [0.001, 0.01, 0.1, 1, 10],\n",
              "                         'penalty': ['l1', 'l2']},\n",
              "             scoring='accuracy')"
            ],
            "text/html": [
              "<style>#sk-container-id-1 {color: black;background-color: white;}#sk-container-id-1 pre{padding: 0;}#sk-container-id-1 div.sk-toggleable {background-color: white;}#sk-container-id-1 label.sk-toggleable__label {cursor: pointer;display: block;width: 100%;margin-bottom: 0;padding: 0.3em;box-sizing: border-box;text-align: center;}#sk-container-id-1 label.sk-toggleable__label-arrow:before {content: \"▸\";float: left;margin-right: 0.25em;color: #696969;}#sk-container-id-1 label.sk-toggleable__label-arrow:hover:before {color: black;}#sk-container-id-1 div.sk-estimator:hover label.sk-toggleable__label-arrow:before {color: black;}#sk-container-id-1 div.sk-toggleable__content {max-height: 0;max-width: 0;overflow: hidden;text-align: left;background-color: #f0f8ff;}#sk-container-id-1 div.sk-toggleable__content pre {margin: 0.2em;color: black;border-radius: 0.25em;background-color: #f0f8ff;}#sk-container-id-1 input.sk-toggleable__control:checked~div.sk-toggleable__content {max-height: 200px;max-width: 100%;overflow: auto;}#sk-container-id-1 input.sk-toggleable__control:checked~label.sk-toggleable__label-arrow:before {content: \"▾\";}#sk-container-id-1 div.sk-estimator input.sk-toggleable__control:checked~label.sk-toggleable__label {background-color: #d4ebff;}#sk-container-id-1 div.sk-label input.sk-toggleable__control:checked~label.sk-toggleable__label {background-color: #d4ebff;}#sk-container-id-1 input.sk-hidden--visually {border: 0;clip: rect(1px 1px 1px 1px);clip: rect(1px, 1px, 1px, 1px);height: 1px;margin: -1px;overflow: hidden;padding: 0;position: absolute;width: 1px;}#sk-container-id-1 div.sk-estimator {font-family: monospace;background-color: #f0f8ff;border: 1px dotted black;border-radius: 0.25em;box-sizing: border-box;margin-bottom: 0.5em;}#sk-container-id-1 div.sk-estimator:hover {background-color: #d4ebff;}#sk-container-id-1 div.sk-parallel-item::after {content: \"\";width: 100%;border-bottom: 1px solid gray;flex-grow: 1;}#sk-container-id-1 div.sk-label:hover label.sk-toggleable__label {background-color: #d4ebff;}#sk-container-id-1 div.sk-serial::before {content: \"\";position: absolute;border-left: 1px solid gray;box-sizing: border-box;top: 0;bottom: 0;left: 50%;z-index: 0;}#sk-container-id-1 div.sk-serial {display: flex;flex-direction: column;align-items: center;background-color: white;padding-right: 0.2em;padding-left: 0.2em;position: relative;}#sk-container-id-1 div.sk-item {position: relative;z-index: 1;}#sk-container-id-1 div.sk-parallel {display: flex;align-items: stretch;justify-content: center;background-color: white;position: relative;}#sk-container-id-1 div.sk-item::before, #sk-container-id-1 div.sk-parallel-item::before {content: \"\";position: absolute;border-left: 1px solid gray;box-sizing: border-box;top: 0;bottom: 0;left: 50%;z-index: -1;}#sk-container-id-1 div.sk-parallel-item {display: flex;flex-direction: column;z-index: 1;position: relative;background-color: white;}#sk-container-id-1 div.sk-parallel-item:first-child::after {align-self: flex-end;width: 50%;}#sk-container-id-1 div.sk-parallel-item:last-child::after {align-self: flex-start;width: 50%;}#sk-container-id-1 div.sk-parallel-item:only-child::after {width: 0;}#sk-container-id-1 div.sk-dashed-wrapped {border: 1px dashed gray;margin: 0 0.4em 0.5em 0.4em;box-sizing: border-box;padding-bottom: 0.4em;background-color: white;}#sk-container-id-1 div.sk-label label {font-family: monospace;font-weight: bold;display: inline-block;line-height: 1.2em;}#sk-container-id-1 div.sk-label-container {text-align: center;}#sk-container-id-1 div.sk-container {/* jupyter's `normalize.less` sets `[hidden] { display: none; }` but bootstrap.min.css set `[hidden] { display: none !important; }` so we also need the `!important` here to be able to override the default hidden behavior on the sphinx rendered scikit-learn.org. See: https://github.com/scikit-learn/scikit-learn/issues/21755 */display: inline-block !important;position: relative;}#sk-container-id-1 div.sk-text-repr-fallback {display: none;}</style><div id=\"sk-container-id-1\" class=\"sk-top-container\"><div class=\"sk-text-repr-fallback\"><pre>GridSearchCV(cv=3, estimator=LogisticRegression(solver=&#x27;liblinear&#x27;),\n",
              "             param_grid={&#x27;C&#x27;: [0.001, 0.01, 0.1, 1, 10],\n",
              "                         &#x27;penalty&#x27;: [&#x27;l1&#x27;, &#x27;l2&#x27;]},\n",
              "             scoring=&#x27;accuracy&#x27;)</pre><b>In a Jupyter environment, please rerun this cell to show the HTML representation or trust the notebook. <br />On GitHub, the HTML representation is unable to render, please try loading this page with nbviewer.org.</b></div><div class=\"sk-container\" hidden><div class=\"sk-item sk-dashed-wrapped\"><div class=\"sk-label-container\"><div class=\"sk-label sk-toggleable\"><input class=\"sk-toggleable__control sk-hidden--visually\" id=\"sk-estimator-id-1\" type=\"checkbox\" ><label for=\"sk-estimator-id-1\" class=\"sk-toggleable__label sk-toggleable__label-arrow\">GridSearchCV</label><div class=\"sk-toggleable__content\"><pre>GridSearchCV(cv=3, estimator=LogisticRegression(solver=&#x27;liblinear&#x27;),\n",
              "             param_grid={&#x27;C&#x27;: [0.001, 0.01, 0.1, 1, 10],\n",
              "                         &#x27;penalty&#x27;: [&#x27;l1&#x27;, &#x27;l2&#x27;]},\n",
              "             scoring=&#x27;accuracy&#x27;)</pre></div></div></div><div class=\"sk-parallel\"><div class=\"sk-parallel-item\"><div class=\"sk-item\"><div class=\"sk-label-container\"><div class=\"sk-label sk-toggleable\"><input class=\"sk-toggleable__control sk-hidden--visually\" id=\"sk-estimator-id-2\" type=\"checkbox\" ><label for=\"sk-estimator-id-2\" class=\"sk-toggleable__label sk-toggleable__label-arrow\">estimator: LogisticRegression</label><div class=\"sk-toggleable__content\"><pre>LogisticRegression(solver=&#x27;liblinear&#x27;)</pre></div></div></div><div class=\"sk-serial\"><div class=\"sk-item\"><div class=\"sk-estimator sk-toggleable\"><input class=\"sk-toggleable__control sk-hidden--visually\" id=\"sk-estimator-id-3\" type=\"checkbox\" ><label for=\"sk-estimator-id-3\" class=\"sk-toggleable__label sk-toggleable__label-arrow\">LogisticRegression</label><div class=\"sk-toggleable__content\"><pre>LogisticRegression(solver=&#x27;liblinear&#x27;)</pre></div></div></div></div></div></div></div></div></div></div>"
            ]
          },
          "metadata": {},
          "execution_count": 11
        }
      ]
    },
    {
      "cell_type": "markdown",
      "source": [
        "12. Make Predictions: Make predictions on the test set using the best model.\n"
      ],
      "metadata": {
        "id": "gdA1qDnHTqDS"
      }
    },
    {
      "cell_type": "code",
      "source": [
        "# Get the best model from grid search\n",
        "best_model = grid_search.best_estimator_\n",
        "\n",
        "# Make predictions on the test set\n",
        "y_pred = best_model.predict(X_test)"
      ],
      "metadata": {
        "id": "Yz3msfvKUJ4t"
      },
      "execution_count": null,
      "outputs": []
    },
    {
      "cell_type": "markdown",
      "source": [
        "13. Evaluate Model: Print the accuracy and classification report to evaluate model performance.\n"
      ],
      "metadata": {
        "id": "KNApYbnOTtRH"
      }
    },
    {
      "cell_type": "code",
      "source": [
        "# Print accuracy and classification report\n",
        "print(f\"Logistic Regression accuracy: {accuracy_score(y_test, y_pred):.3f}\")\n",
        "print(classification_report(y_test, y_pred, target_names=['ALL', 'AML']))"
      ],
      "metadata": {
        "colab": {
          "base_uri": "https://localhost:8080/"
        },
        "id": "6isY5ZmKURIs",
        "outputId": "8f504def-53bd-4d2f-a2c8-84a050a20d38"
      },
      "execution_count": null,
      "outputs": [
        {
          "output_type": "stream",
          "name": "stdout",
          "text": [
            "Logistic Regression accuracy: 0.714\n",
            "              precision    recall  f1-score   support\n",
            "\n",
            "         ALL       1.00      0.63      0.77        27\n",
            "         AML       0.44      1.00      0.62         8\n",
            "\n",
            "    accuracy                           0.71        35\n",
            "   macro avg       0.72      0.81      0.69        35\n",
            "weighted avg       0.87      0.71      0.74        35\n",
            "\n"
          ]
        }
      ]
    },
    {
      "cell_type": "markdown",
      "source": [
        "14. Plot Confusion Matrix: Visualize the confusion matrix to see the performance of the model in classifying the cancer types."
      ],
      "metadata": {
        "id": "1V3QDZZbTvEc"
      }
    },
    {
      "cell_type": "code",
      "source": [
        "# Plot confusion matrix to visualize model performance\n",
        "conf_matrix = confusion_matrix(y_test, y_pred)\n",
        "sns.heatmap(conf_matrix, annot=True, fmt='d', cmap='OrRd', xticklabels=['ALL', 'AML'], yticklabels=['ALL', 'AML'])\n",
        "\n",
        "# Set labels and title for the confusion matrix plot\n",
        "plt.xlabel('Predicted labels')\n",
        "plt.ylabel('True labels')\n",
        "plt.title('Logistic Regression Confusion Matrix')\n",
        "plt.show()"
      ],
      "metadata": {
        "colab": {
          "base_uri": "https://localhost:8080/",
          "height": 472
        },
        "id": "_JZJLksYUV87",
        "outputId": "dd818d61-d522-4faf-d78c-a3f0dbc048e4"
      },
      "execution_count": null,
      "outputs": [
        {
          "output_type": "display_data",
          "data": {
            "text/plain": [
              "<Figure size 640x480 with 2 Axes>"
            ],
            "image/png": "[encoded data removed]"
          },
          "metadata": {}
        }
      ]
    }
  ]
}